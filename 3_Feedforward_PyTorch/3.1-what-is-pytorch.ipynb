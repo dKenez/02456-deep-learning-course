{
  "cells": [
    {
      "cell_type": "markdown",
      "metadata": {
        "id": "kVhj1Qp8Xea3"
      },
      "source": [
        "# Credits\n",
        "\n",
        "This is heavily based on https://github.com/pytorch/tutorials"
      ]
    },
    {
      "cell_type": "markdown",
      "metadata": {
        "id": "WeKjh312Xea4"
      },
      "source": [
        "# What is PyTorch?\n",
        "\n",
        "> **NOTE** In the last part of this lab cuda is used. If you have a cuda enabled machine, read the README.md in the root of this repo on how to use nvidia-docker.\n",
        "\n",
        "\n",
        "It’s a Python based scientific computing package targeted at two sets of\n",
        "audiences:\n",
        "-  A replacement for numpy to use the power of GPUs\n",
        "-  a deep learning research platform that provides maximum flexibility\n",
        "   and speed\n"
      ]
    },
    {
      "cell_type": "markdown",
      "metadata": {
        "id": "uAtDw4E2Xea5"
      },
      "source": [
        "# Getting Started\n",
        "\n",
        "In this lab you will get a quick start on what pytorch is and how to use it.\n",
        "\n",
        "## 1. Tensors\n",
        "\n",
        "Tensors are similar to numpy’s ndarrays, with the addition being that\n",
        "Tensors can also be used on a GPU to accelerate computing."
      ]
    },
    {
      "cell_type": "code",
      "execution_count": 1,
      "metadata": {
        "id": "-4P9on5tXea6"
      },
      "outputs": [],
      "source": [
        "import torch"
      ]
    },
    {
      "cell_type": "markdown",
      "metadata": {
        "id": "qHWWRWOaXea6"
      },
      "source": [
        "Construct a 5x3 matrix, uninitialized"
      ]
    },
    {
      "cell_type": "code",
      "execution_count": 2,
      "metadata": {
        "scrolled": false,
        "id": "7LC8qeneXea6",
        "outputId": "8fc528af-a377-4d5b-d53b-3d684afc3f9b",
        "colab": {
          "base_uri": "https://localhost:8080/"
        }
      },
      "outputs": [
        {
          "output_type": "stream",
          "name": "stdout",
          "text": [
            "tensor([[2.8788e-35, 0.0000e+00, 3.7835e-44],\n",
            "        [0.0000e+00,        nan, 0.0000e+00],\n",
            "        [1.3733e-14, 6.4069e+02, 4.3066e+21],\n",
            "        [1.1824e+22, 4.3066e+21, 6.3828e+28],\n",
            "        [3.8016e-39, 0.0000e+00, 0.0000e+00]])\n"
          ]
        }
      ],
      "source": [
        "x = torch.Tensor(5, 3)\n",
        "print(x)"
      ]
    },
    {
      "cell_type": "markdown",
      "metadata": {
        "id": "aIWBtHYmXea8"
      },
      "source": [
        "Construct a randomly initialized matrix"
      ]
    },
    {
      "cell_type": "code",
      "execution_count": 24,
      "metadata": {
        "id": "lV1k2ffZXea8",
        "outputId": "f2f89b9c-0b9e-48ed-af87-7711fd575a9c",
        "colab": {
          "base_uri": "https://localhost:8080/"
        }
      },
      "outputs": [
        {
          "output_type": "stream",
          "name": "stdout",
          "text": [
            "tensor([[0.3688, 0.2972, 0.5631],\n",
            "        [0.4535, 0.7039, 0.6346],\n",
            "        [0.0251, 0.5794, 0.5328],\n",
            "        [0.0027, 0.5575, 0.0485],\n",
            "        [0.7427, 0.5577, 0.8731]])\n"
          ]
        }
      ],
      "source": [
        "x = torch.rand(5, 3)\n",
        "print(x)"
      ]
    },
    {
      "cell_type": "markdown",
      "metadata": {
        "id": "iIVyIUjAXea8"
      },
      "source": [
        "Get its size"
      ]
    },
    {
      "cell_type": "code",
      "execution_count": 25,
      "metadata": {
        "id": "lcV6lA_HXea9",
        "outputId": "85a40c04-8a05-42e4-8cbb-c86b03a3f836",
        "colab": {
          "base_uri": "https://localhost:8080/"
        }
      },
      "outputs": [
        {
          "output_type": "stream",
          "name": "stdout",
          "text": [
            "torch.Size([5, 3])\n"
          ]
        }
      ],
      "source": [
        "print(x.size())"
      ]
    },
    {
      "cell_type": "markdown",
      "metadata": {
        "id": "lvkSQcxoXea9"
      },
      "source": [
        "**NOTE**: `torch.Size` is in fact a tuple, so it supports the same operations that a tuple supports."
      ]
    },
    {
      "cell_type": "code",
      "execution_count": 26,
      "metadata": {
        "id": "rHgNZxTUXea-",
        "outputId": "680cd115-1128-4f16-cfd9-b320fe116ac2",
        "colab": {
          "base_uri": "https://localhost:8080/"
        }
      },
      "outputs": [
        {
          "output_type": "stream",
          "name": "stdout",
          "text": [
            "tensor([[0.3688, 0.2972, 0.5631],\n",
            "        [2.0000, 2.0000, 2.0000],\n",
            "        [2.0000, 2.0000, 2.0000],\n",
            "        [0.0027, 0.5575, 0.0485],\n",
            "        [0.7427, 0.5577, 0.8731]])\n"
          ]
        }
      ],
      "source": [
        "x[1:3] = 2\n",
        "print(x)"
      ]
    },
    {
      "cell_type": "markdown",
      "metadata": {
        "id": "bE8yFupGXea-"
      },
      "source": [
        "# Assignment\n",
        "\n",
        "Make use of the pytorch docs <http://pytorch.org/docs/torch>\n",
        "1. Make a tensor of size (2, 17)\n",
        "2. Make a torch.FloatTensor of size (3, 1)\n",
        "3. Make a torch.LongTensor of size (5, 2, 1)\n",
        "  - fill the entire tensor with 7s\n",
        "4. Make a torch.ByteTensor of size (5,)\n",
        "  - fill the middle 3 indices with ones such that it records [0, 1, 1, 1, 0]"
      ]
    },
    {
      "cell_type": "code",
      "source": [
        "z = torch.Tensor(2, 17)\n",
        "print(z)"
      ],
      "metadata": {
        "id": "lLscTs_pZZGt",
        "outputId": "e16079f6-c28f-4e18-d96e-1073f31b7b9b",
        "colab": {
          "base_uri": "https://localhost:8080/"
        }
      },
      "execution_count": 17,
      "outputs": [
        {
          "output_type": "stream",
          "name": "stdout",
          "text": [
            "tensor([[2.8887e-35, 0.0000e+00, 2.2141e-43, 0.0000e+00,        nan, 0.0000e+00,\n",
            "         4.8222e+30, 4.4166e+21, 8.4830e+26, 2.1712e+29, 7.1941e+28, 1.0383e-05,\n",
            "         1.8491e+31, 2.7691e+20, 1.0645e+24, 5.5603e+31, 4.2964e+24],\n",
            "        [1.0765e+21, 1.0765e+21, 4.4721e+21, 2.8147e+29, 7.5261e+28, 9.1592e+08,\n",
            "         3.5562e-09, 1.7743e+28, 9.9302e+05, 2.7946e+20, 6.0609e+01, 3.3389e-09,\n",
            "         4.6304e+27, 7.2151e+22, 2.6800e+20, 2.1195e+11, 1.5226e+19]])\n"
          ]
        }
      ]
    },
    {
      "cell_type": "code",
      "source": [
        "z = torch.FloatTensor(3, 1)\n",
        "print(z)"
      ],
      "metadata": {
        "id": "t0Axya0wZcEr",
        "outputId": "94da605f-0c24-46a6-d299-bd78818c29d9",
        "colab": {
          "base_uri": "https://localhost:8080/"
        }
      },
      "execution_count": 18,
      "outputs": [
        {
          "output_type": "stream",
          "name": "stdout",
          "text": [
            "tensor([[8.9943e-35],\n",
            "        [0.0000e+00],\n",
            "        [2.3694e-38]])\n"
          ]
        }
      ]
    },
    {
      "cell_type": "code",
      "source": [
        "z = torch.LongTensor(5, 2, 1)\n",
        "print(z)"
      ],
      "metadata": {
        "id": "x7_7A7bQZgQV",
        "outputId": "84e0fe4b-a3c5-42a0-98de-9f3b6fa054d6",
        "colab": {
          "base_uri": "https://localhost:8080/"
        }
      },
      "execution_count": 19,
      "outputs": [
        {
          "output_type": "stream",
          "name": "stdout",
          "text": [
            "tensor([[[          111853184],\n",
            "         [                 93]],\n",
            "\n",
            "        [[         4294967295],\n",
            "         [7165064483209180463]],\n",
            "\n",
            "        [[8083788061079465057],\n",
            "         [3976172070423262329]],\n",
            "\n",
            "        [[7021161797246346287],\n",
            "         [8372037111668370275]],\n",
            "\n",
            "        [[7091318039142167151],\n",
            "         [7165912502757846063]]])\n"
          ]
        }
      ]
    },
    {
      "cell_type": "code",
      "source": [
        "z[:] = 7\n",
        "print(z)"
      ],
      "metadata": {
        "id": "WluLLCV0Z5xK",
        "outputId": "9ac78e97-60e1-433a-acd7-9313b2243e5a",
        "colab": {
          "base_uri": "https://localhost:8080/"
        }
      },
      "execution_count": 20,
      "outputs": [
        {
          "output_type": "stream",
          "name": "stdout",
          "text": [
            "tensor([[[7],\n",
            "         [7]],\n",
            "\n",
            "        [[7],\n",
            "         [7]],\n",
            "\n",
            "        [[7],\n",
            "         [7]],\n",
            "\n",
            "        [[7],\n",
            "         [7]],\n",
            "\n",
            "        [[7],\n",
            "         [7]]])\n"
          ]
        }
      ]
    },
    {
      "cell_type": "code",
      "source": [
        "z = torch.ByteTensor(5,)\n",
        "print(z)"
      ],
      "metadata": {
        "id": "-eQoeYl3aCc6",
        "outputId": "c4725b2d-46b2-4538-c872-ffebc125cddf",
        "colab": {
          "base_uri": "https://localhost:8080/"
        }
      },
      "execution_count": 21,
      "outputs": [
        {
          "output_type": "stream",
          "name": "stdout",
          "text": [
            "tensor([ 64,  28, 239,   6,   0], dtype=torch.uint8)\n"
          ]
        }
      ]
    },
    {
      "cell_type": "code",
      "source": [
        "z[:] = 0\n",
        "z[1:4] = 1\n",
        "print(z)"
      ],
      "metadata": {
        "id": "Bs-DFOK7aYgJ",
        "outputId": "8f88ba07-408d-4147-af9c-f6c647948005",
        "colab": {
          "base_uri": "https://localhost:8080/"
        }
      },
      "execution_count": 22,
      "outputs": [
        {
          "output_type": "stream",
          "name": "stdout",
          "text": [
            "tensor([0, 1, 1, 1, 0], dtype=torch.uint8)\n"
          ]
        }
      ]
    },
    {
      "cell_type": "markdown",
      "metadata": {
        "id": "u0DQHODFXea-"
      },
      "source": [
        "## 2. Operations\n",
        "There are multiple syntaxes for operations. Let's see addition as an example:\n",
        "\n",
        "### 2.1 Addition: syntax 1"
      ]
    },
    {
      "cell_type": "code",
      "execution_count": 27,
      "metadata": {
        "id": "4rgHa9epXea_",
        "outputId": "9133cfea-52cd-412d-c845-6c4935c09a76",
        "colab": {
          "base_uri": "https://localhost:8080/"
        }
      },
      "outputs": [
        {
          "output_type": "stream",
          "name": "stdout",
          "text": [
            "tensor([[1.3531, 0.9486, 0.6964],\n",
            "        [2.8264, 2.9607, 2.5879],\n",
            "        [2.8894, 2.0053, 2.0602],\n",
            "        [0.5704, 0.8167, 0.5482],\n",
            "        [1.1569, 0.9274, 1.4768]])\n"
          ]
        }
      ],
      "source": [
        "y = torch.rand(5, 3)\n",
        "print(x + y)"
      ]
    },
    {
      "cell_type": "markdown",
      "metadata": {
        "id": "PUndPiR3Xea_"
      },
      "source": [
        "### 2.2 Addition: syntax 2"
      ]
    },
    {
      "cell_type": "code",
      "execution_count": 28,
      "metadata": {
        "id": "2ajEkeu3Xea_",
        "outputId": "67addb17-4cb0-46ed-d789-f069cf4fc2d4",
        "colab": {
          "base_uri": "https://localhost:8080/"
        }
      },
      "outputs": [
        {
          "output_type": "stream",
          "name": "stdout",
          "text": [
            "tensor([[1.3531, 0.9486, 0.6964],\n",
            "        [2.8264, 2.9607, 2.5879],\n",
            "        [2.8894, 2.0053, 2.0602],\n",
            "        [0.5704, 0.8167, 0.5482],\n",
            "        [1.1569, 0.9274, 1.4768]])\n"
          ]
        }
      ],
      "source": [
        "print(torch.add(x, y))"
      ]
    },
    {
      "cell_type": "markdown",
      "metadata": {
        "id": "VjTQrsSlXebA"
      },
      "source": [
        "### 2.3 Addition: giving an output tensor"
      ]
    },
    {
      "cell_type": "code",
      "execution_count": 29,
      "metadata": {
        "id": "zPqZGhGPXebA",
        "outputId": "1b95a15e-2ba1-40b7-f130-c5bae884b94f",
        "colab": {
          "base_uri": "https://localhost:8080/"
        }
      },
      "outputs": [
        {
          "output_type": "stream",
          "name": "stdout",
          "text": [
            "tensor([[1.3531, 0.9486, 0.6964],\n",
            "        [2.8264, 2.9607, 2.5879],\n",
            "        [2.8894, 2.0053, 2.0602],\n",
            "        [0.5704, 0.8167, 0.5482],\n",
            "        [1.1569, 0.9274, 1.4768]])\n"
          ]
        }
      ],
      "source": [
        "result = torch.Tensor(5, 3)\n",
        "torch.add(x, y, out=result)\n",
        "print(result)"
      ]
    },
    {
      "cell_type": "markdown",
      "metadata": {
        "id": "htEyXKFpXebA"
      },
      "source": [
        "### 2.4 Addition: in-place\n",
        "\n",
        "adds `x`to `y`"
      ]
    },
    {
      "cell_type": "code",
      "execution_count": 30,
      "metadata": {
        "id": "suD5lIWpXebA",
        "outputId": "a93d0124-27d9-4838-8672-21041c408be2",
        "colab": {
          "base_uri": "https://localhost:8080/"
        }
      },
      "outputs": [
        {
          "output_type": "stream",
          "name": "stdout",
          "text": [
            "tensor([[1.3531, 0.9486, 0.6964],\n",
            "        [2.8264, 2.9607, 2.5879],\n",
            "        [2.8894, 2.0053, 2.0602],\n",
            "        [0.5704, 0.8167, 0.5482],\n",
            "        [1.1569, 0.9274, 1.4768]])\n"
          ]
        }
      ],
      "source": [
        "y.add_(x)\n",
        "print(y)"
      ]
    },
    {
      "cell_type": "markdown",
      "metadata": {
        "id": "xmhnbvTvXebA"
      },
      "source": [
        "**NOTE**: Any operation that mutates a tensor in-place is post-fixed with an `_`. For example: `x.copy_(y)`, `x.t_()`, will change `x`."
      ]
    },
    {
      "cell_type": "markdown",
      "metadata": {
        "id": "4GQ-_qQ5XebB"
      },
      "source": [
        "You can use standard numpy-like indexing with all bells and whistles!"
      ]
    },
    {
      "cell_type": "code",
      "execution_count": 31,
      "metadata": {
        "id": "Byouo9McXebB",
        "outputId": "5e2c937b-dd9b-446f-9bea-c9cba82479c0",
        "colab": {
          "base_uri": "https://localhost:8080/"
        }
      },
      "outputs": [
        {
          "output_type": "stream",
          "name": "stdout",
          "text": [
            "tensor([0.2972, 2.0000, 2.0000, 0.5575, 0.5577])\n"
          ]
        }
      ],
      "source": [
        "print(x[:, 1])"
      ]
    },
    {
      "cell_type": "markdown",
      "metadata": {
        "id": "N1wlq2gLXebB"
      },
      "source": [
        "**Read later** 100+ Tensor operations, including transposing, indexing, slicing, mathematical operations, linear algebra, random numbers, etc are described here <http://pytorch.org/docs/torch>"
      ]
    },
    {
      "cell_type": "markdown",
      "metadata": {
        "id": "x_82fXaDXebB"
      },
      "source": [
        "# Assignment\n",
        "\n",
        "1. multiplication of two tensors (see [torch.Tensor.mul](http://pytorch.org/docs/master/tensors.html#torch.Tensor.mul))\n",
        "2. do the same, but inplace\n",
        "3. division of two tensors (see [torch.Tensor.div](http://pytorch.org/docs/master/tensors.html#torch.Tensor.div))\n",
        "4. perform a matrix multiplication of two tensors of size (2, 4) and (4, 2)"
      ]
    },
    {
      "cell_type": "code",
      "source": [
        "z1 = torch.rand(5, 3)\n",
        "z2 = torch.rand(5, 3)\n",
        "print(z1)\n",
        "print(z2)"
      ],
      "metadata": {
        "id": "XCnT4CSecLRk",
        "outputId": "63b018fc-6f03-437b-eb4d-5eadc5bc00ae",
        "colab": {
          "base_uri": "https://localhost:8080/"
        }
      },
      "execution_count": 44,
      "outputs": [
        {
          "output_type": "stream",
          "name": "stdout",
          "text": [
            "tensor([[0.5043, 0.1441, 0.9220],\n",
            "        [0.8902, 0.5709, 0.2585],\n",
            "        [0.6135, 0.6084, 0.7985],\n",
            "        [0.4950, 0.5812, 0.9725],\n",
            "        [0.0567, 0.8597, 0.1995]])\n",
            "tensor([[0.4589, 0.2471, 0.0285],\n",
            "        [0.1472, 0.3545, 0.1738],\n",
            "        [0.4134, 0.3721, 0.8132],\n",
            "        [0.6385, 0.8559, 0.7788],\n",
            "        [0.7040, 0.4872, 0.9857]])\n"
          ]
        }
      ]
    },
    {
      "cell_type": "code",
      "source": [
        "# 1.\n",
        "z3 = z1.mul(z2)\n",
        "print(z3)"
      ],
      "metadata": {
        "id": "nYoFufTBbTVC",
        "outputId": "317e6b7a-2a8c-46ec-f72a-93c4812fd50a",
        "colab": {
          "base_uri": "https://localhost:8080/"
        }
      },
      "execution_count": 51,
      "outputs": [
        {
          "output_type": "stream",
          "name": "stdout",
          "text": [
            "tensor([[0.2314, 0.0356, 0.0262],\n",
            "        [0.1310, 0.2024, 0.0449],\n",
            "        [0.2536, 0.2264, 0.6493],\n",
            "        [0.3160, 0.4974, 0.7574],\n",
            "        [0.0399, 0.4189, 0.1967]])\n",
            "tensor([[0.2314, 0.0356, 0.0262],\n",
            "        [0.1310, 0.2024, 0.0449],\n",
            "        [0.2536, 0.2264, 0.6493],\n",
            "        [0.3160, 0.4974, 0.7574],\n",
            "        [0.0399, 0.4189, 0.1967]])\n"
          ]
        }
      ]
    },
    {
      "cell_type": "code",
      "source": [
        "# 2.\n",
        "z1_copy = z1.clone()\n",
        "z1_copy.mul_(z2)\n",
        "print(z1_copy)"
      ],
      "metadata": {
        "id": "w7gxPXl6bmIg",
        "outputId": "c2559a6b-de33-4023-8b1b-1fdfcb2d87b9",
        "colab": {
          "base_uri": "https://localhost:8080/"
        }
      },
      "execution_count": 48,
      "outputs": [
        {
          "output_type": "stream",
          "name": "stdout",
          "text": [
            "tensor([[0.2314, 0.0356, 0.0262],\n",
            "        [0.1310, 0.2024, 0.0449],\n",
            "        [0.2536, 0.2264, 0.6493],\n",
            "        [0.3160, 0.4974, 0.7574],\n",
            "        [0.0399, 0.4189, 0.1967]])\n"
          ]
        }
      ]
    },
    {
      "cell_type": "code",
      "source": [
        "# 3\n",
        "torch.div(z1, z2, out=z3)\n",
        "print(z3)"
      ],
      "metadata": {
        "id": "e9b8CzlDcBlT",
        "outputId": "0d38bef3-a7ea-4dac-a9bd-32f39fec71e8",
        "colab": {
          "base_uri": "https://localhost:8080/"
        }
      },
      "execution_count": 49,
      "outputs": [
        {
          "output_type": "stream",
          "name": "stdout",
          "text": [
            "tensor([[ 1.0990,  0.5833, 32.3824],\n",
            "        [ 6.0472,  1.6105,  1.4873],\n",
            "        [ 1.4839,  1.6350,  0.9819],\n",
            "        [ 0.7753,  0.6790,  1.2488],\n",
            "        [ 0.0806,  1.7645,  0.2024]])\n"
          ]
        }
      ]
    },
    {
      "cell_type": "code",
      "source": [
        "# 4\n",
        "z4 = torch.rand(4, 2)\n",
        "z5 = torch.rand(2, 4)\n",
        "\n",
        "z6 = torch.matmul(z4, z5, out=z3.resize_(0))\n",
        "print(z3)\n",
        "print(z3.shape)"
      ],
      "metadata": {
        "id": "zFx-_7AQcpLs",
        "outputId": "5023e52e-d723-4fc5-db22-095da888e74c",
        "colab": {
          "base_uri": "https://localhost:8080/"
        }
      },
      "execution_count": 55,
      "outputs": [
        {
          "output_type": "stream",
          "name": "stdout",
          "text": [
            "tensor([[0.7571, 0.1711, 1.0420, 0.2979],\n",
            "        [0.3617, 0.0963, 0.4338, 0.2510],\n",
            "        [0.7550, 0.1793, 1.0010, 0.3619],\n",
            "        [0.3487, 0.0891, 0.4347, 0.2142]])\n",
            "torch.Size([4, 4])\n"
          ]
        }
      ]
    },
    {
      "cell_type": "markdown",
      "metadata": {
        "id": "I-bgvXwYXebB"
      },
      "source": [
        "## 3. Numpy Bridge\n",
        "\n",
        "Converting a torch Tensor to a numpy array and vice versa is a breeze.\n",
        "\n",
        "The torch Tensor and numpy array will share their underlying memory locations, and changing one will change the other.\n",
        "\n",
        "### 3.1 Converting torch Tensor to numpy Array"
      ]
    },
    {
      "cell_type": "code",
      "execution_count": 56,
      "metadata": {
        "id": "c0MeRn4LXebB",
        "outputId": "c475e0f3-243d-464c-e615-425f5aba94a2",
        "colab": {
          "base_uri": "https://localhost:8080/"
        }
      },
      "outputs": [
        {
          "output_type": "stream",
          "name": "stdout",
          "text": [
            "tensor([1., 1., 1., 1., 1.])\n"
          ]
        }
      ],
      "source": [
        "a = torch.ones(5)\n",
        "print(a)"
      ]
    },
    {
      "cell_type": "code",
      "execution_count": 57,
      "metadata": {
        "id": "SNWGQbAkXebB",
        "outputId": "850e273e-e892-4740-bcb6-15e79ad8a6c7",
        "colab": {
          "base_uri": "https://localhost:8080/"
        }
      },
      "outputs": [
        {
          "output_type": "stream",
          "name": "stdout",
          "text": [
            "[1. 1. 1. 1. 1.]\n"
          ]
        }
      ],
      "source": [
        "b = a.numpy()\n",
        "print(b)"
      ]
    },
    {
      "cell_type": "markdown",
      "metadata": {
        "id": "F5vMeuQbXebC"
      },
      "source": [
        "See how the numpy array changed in value: the `numpy()` method provides a *view* of the original tensor, not a copy."
      ]
    },
    {
      "cell_type": "code",
      "execution_count": 58,
      "metadata": {
        "id": "RKlPsY_cXebC",
        "outputId": "08cfb477-4f02-431e-deaf-da2d46d31b7e",
        "colab": {
          "base_uri": "https://localhost:8080/"
        }
      },
      "outputs": [
        {
          "output_type": "stream",
          "name": "stdout",
          "text": [
            "tensor([2., 2., 2., 2., 2.])\n",
            "[2. 2. 2. 2. 2.]\n"
          ]
        }
      ],
      "source": [
        "a.add_(1)\n",
        "print(a)\n",
        "print(b)"
      ]
    },
    {
      "cell_type": "markdown",
      "metadata": {
        "id": "e9lsIzwhXebC"
      },
      "source": [
        "### 3.2 Converting numpy Array to torch Tensor\n",
        "\n",
        "See how changing the np array changed the torch Tensor automatically"
      ]
    },
    {
      "cell_type": "code",
      "execution_count": 59,
      "metadata": {
        "id": "0f7DqX1LXebC",
        "outputId": "35df6213-3299-43aa-be0e-c291115288f9",
        "colab": {
          "base_uri": "https://localhost:8080/"
        }
      },
      "outputs": [
        {
          "output_type": "stream",
          "name": "stdout",
          "text": [
            "[2. 2. 2. 2. 2.]\n",
            "tensor([2., 2., 2., 2., 2.], dtype=torch.float64)\n"
          ]
        }
      ],
      "source": [
        "import numpy as np\n",
        "a = np.ones(5)\n",
        "b = torch.from_numpy(a)\n",
        "np.add(a, 1, out=a)\n",
        "print(a)\n",
        "print(b)"
      ]
    },
    {
      "cell_type": "markdown",
      "metadata": {
        "id": "eKPapVFRXebC"
      },
      "source": [
        "# Assignment\n",
        "\n",
        "1. create a tensor of size (5, 2) containing ones\n",
        "2. now convert it to a numpy array\n",
        "3. now convert it back to a torch tensor"
      ]
    },
    {
      "cell_type": "code",
      "source": [
        "# 1\n",
        "z1 = torch.ones([5, 2])\n",
        "print(z1)"
      ],
      "metadata": {
        "id": "m1vG9jvee4Tv",
        "outputId": "f9cb0054-12bd-41d6-fb96-93e6d50059bc",
        "colab": {
          "base_uri": "https://localhost:8080/"
        }
      },
      "execution_count": 61,
      "outputs": [
        {
          "output_type": "stream",
          "name": "stdout",
          "text": [
            "tensor([[1., 1.],\n",
            "        [1., 1.],\n",
            "        [1., 1.],\n",
            "        [1., 1.],\n",
            "        [1., 1.]])\n"
          ]
        }
      ]
    },
    {
      "cell_type": "code",
      "source": [
        "# 2\n",
        "z1_np = z1.numpy()\n",
        "print(z1_np)"
      ],
      "metadata": {
        "id": "kFT9F1RJfONV",
        "outputId": "9174d74c-0bc1-4089-eb11-844cf5eafade",
        "colab": {
          "base_uri": "https://localhost:8080/"
        }
      },
      "execution_count": 63,
      "outputs": [
        {
          "output_type": "stream",
          "name": "stdout",
          "text": [
            "[[1. 1.]\n",
            " [1. 1.]\n",
            " [1. 1.]\n",
            " [1. 1.]\n",
            " [1. 1.]]\n"
          ]
        }
      ]
    },
    {
      "cell_type": "code",
      "source": [
        "# 3\n",
        "z1_np_torch = torch.from_numpy(z1_np)\n",
        "print(z1_np_torch)"
      ],
      "metadata": {
        "id": "qJBwy2R7fUsH",
        "outputId": "0ec49a83-9e61-431a-f2bf-58301f9d4726",
        "colab": {
          "base_uri": "https://localhost:8080/"
        }
      },
      "execution_count": 64,
      "outputs": [
        {
          "output_type": "stream",
          "name": "stdout",
          "text": [
            "tensor([[1., 1.],\n",
            "        [1., 1.],\n",
            "        [1., 1.],\n",
            "        [1., 1.],\n",
            "        [1., 1.]])\n"
          ]
        }
      ]
    },
    {
      "cell_type": "markdown",
      "metadata": {
        "id": "M4zQqdRfXebD"
      },
      "source": [
        "All the Tensors on the CPU except a CharTensor support converting to NumPy and back.\n",
        "\n",
        "## 4 CUDA Tensors\n",
        "\n",
        "Tensors can be moved onto GPU using the `.cuda` function.\n",
        "This is not necessary, but check the `README.md` for details on how to use a GPU with docker."
      ]
    },
    {
      "cell_type": "code",
      "execution_count": 60,
      "metadata": {
        "id": "HgrB5tplXebD",
        "outputId": "2c087b09-8793-460a-b44e-a6fcd199cb3f",
        "colab": {
          "base_uri": "https://localhost:8080/"
        }
      },
      "outputs": [
        {
          "output_type": "stream",
          "name": "stdout",
          "text": [
            "tensor([[0.3688, 0.2972, 0.5631],\n",
            "        [2.0000, 2.0000, 2.0000],\n",
            "        [2.0000, 2.0000, 2.0000],\n",
            "        [0.0027, 0.5575, 0.0485],\n",
            "        [0.7427, 0.5577, 0.8731]], device='cuda:0')\n",
            "tensor([[1.3531, 0.9486, 0.6964],\n",
            "        [2.8264, 2.9607, 2.5879],\n",
            "        [2.8894, 2.0053, 2.0602],\n",
            "        [0.5704, 0.8167, 0.5482],\n",
            "        [1.1569, 0.9274, 1.4768]], device='cuda:0')\n",
            "tensor([[1.7219, 1.2458, 1.2595],\n",
            "        [4.8264, 4.9607, 4.5879],\n",
            "        [4.8894, 4.0053, 4.0602],\n",
            "        [0.5731, 1.3742, 0.5966],\n",
            "        [1.8996, 1.4851, 2.3500]], device='cuda:0')\n"
          ]
        }
      ],
      "source": [
        "# let us run this cell only if CUDA is available\n",
        "if torch.cuda.is_available():\n",
        "    x = x.cuda()\n",
        "    y = y.cuda()\n",
        "    z = x + y\n",
        "    # Notice that the tensors are now of type torch.cuda.FloatTensor (notice the cuda in there)\n",
        "    # This is meant as a tensor to be run on the GPU.\n",
        "    # The .cuda() does this to any parameter it is applied to.\n",
        "    print(x)\n",
        "    print(y)\n",
        "    print(z)\n",
        "else:\n",
        "    print(\"CUDA not available on your machine.\")"
      ]
    },
    {
      "cell_type": "code",
      "execution_count": null,
      "metadata": {
        "id": "rcfjs3PGXebD"
      },
      "outputs": [],
      "source": []
    }
  ],
  "metadata": {
    "kernelspec": {
      "display_name": "Python 3 (ipykernel)",
      "language": "python",
      "name": "python3"
    },
    "language_info": {
      "codemirror_mode": {
        "name": "ipython",
        "version": 3
      },
      "file_extension": ".py",
      "mimetype": "text/x-python",
      "name": "python",
      "nbconvert_exporter": "python",
      "pygments_lexer": "ipython3",
      "version": "3.8.12"
    },
    "colab": {
      "provenance": []
    },
    "accelerator": "GPU"
  },
  "nbformat": 4,
  "nbformat_minor": 0
}