{
  "cells": [
    {
      "cell_type": "markdown",
      "metadata": {
        "id": "r-FHbDkUrtZG"
      },
      "source": [
        "# Credits\n",
        "\n",
        "This is heavily influenced or copied from https://github.com/pytorch/tutorials"
      ]
    },
    {
      "cell_type": "markdown",
      "metadata": {
        "id": "h9AAWggertZH"
      },
      "source": [
        "# Autograd: automatic differentiation\n",
        "\n",
        "Central to all neural networks in PyTorch is the ``autograd`` package.\n",
        "Let’s first briefly visit this, and we will then go to training our first neural network.\n",
        "\n",
        "The `autograd` package provides automatic differentiation for all operations on Tensors.\n",
        "It is a define-by-run framework, which means that your backprop is defined by how your code is run, and that every single iteration can be different.\n",
        "\n",
        "Let us see this in more simple terms with some examples."
      ]
    },
    {
      "cell_type": "markdown",
      "metadata": {
        "id": "l8b-yb3qrtZI"
      },
      "source": [
        "## 1. Tensor\n",
        "\n",
        "`torch.Tensor` is the central class of the package. Setting the attribute `.requires_grad` to `True` will make the tensor \"record\" all operations on it. When you finish your computation you can call `.backward()` and have all the gradients computed automatically. The gradient for this tensor will be accumulated into the `.grad` attribute.\n",
        "\n",
        "![autograd.Variable](https://github.com/dKenez/02456-deep-learning-course/blob/master/static_files/autograd-variable.png?raw=1)\n",
        "\n",
        "There’s one more class which is very important for autograd implementation - a `Function`.\n",
        "\n",
        "`Tensor` and `Function` are interconnected and build up an acyclic graph, that encodes a complete history of computation. Each tensor has a `.grad_fn` attribute that references a `Function` that has created the `Tensor` (except for Tensors created by the user - their `grad_fn` is `None`).\n",
        "\n",
        "If you want to compute the derivatives, you can call `.backward()` on a Tensor. If `Tensor` is a scalar (i.e. it holds a one element data), you don’t need to specify any arguments to backward(), however if it has more elements, you need to specify a `gradient` argument that is a tensor of matching shape."
      ]
    },
    {
      "cell_type": "code",
      "execution_count": 1,
      "metadata": {
        "id": "u_uVs-lTrtZI"
      },
      "outputs": [],
      "source": [
        "import torch"
      ]
    },
    {
      "cell_type": "markdown",
      "metadata": {
        "id": "QXY33cMgrtZJ"
      },
      "source": [
        "Create a tensor"
      ]
    },
    {
      "cell_type": "code",
      "execution_count": 2,
      "metadata": {
        "id": "4H-W3DmartZJ",
        "outputId": "f7937dbf-9029-474c-a0c7-722e96d09803",
        "colab": {
          "base_uri": "https://localhost:8080/"
        }
      },
      "outputs": [
        {
          "output_type": "stream",
          "name": "stdout",
          "text": [
            "tensor([[1., 1.],\n",
            "        [1., 1.]], requires_grad=True)\n"
          ]
        }
      ],
      "source": [
        "x = torch.ones(2, 2, requires_grad=True)\n",
        "print(x)"
      ]
    },
    {
      "cell_type": "markdown",
      "metadata": {
        "id": "WTLhs5ZtrtZK"
      },
      "source": [
        "Do a tensor operation:"
      ]
    },
    {
      "cell_type": "code",
      "execution_count": 3,
      "metadata": {
        "id": "AAIfsIiRrtZK",
        "outputId": "4a3c08b0-a721-4770-d485-46c3a8aa5f7d",
        "colab": {
          "base_uri": "https://localhost:8080/"
        }
      },
      "outputs": [
        {
          "output_type": "stream",
          "name": "stdout",
          "text": [
            "tensor([[3., 3.],\n",
            "        [3., 3.]], grad_fn=<AddBackward0>)\n"
          ]
        }
      ],
      "source": [
        "y = x + 2\n",
        "print(y)"
      ]
    },
    {
      "cell_type": "markdown",
      "metadata": {
        "id": "btQ7vJsKrtZK"
      },
      "source": [
        "`y` was created as a result of an operation, so it has a `grad_fn`."
      ]
    },
    {
      "cell_type": "code",
      "execution_count": 4,
      "metadata": {
        "id": "JjP2Mt3DrtZL",
        "outputId": "dc6655de-9ef1-4554-a1f6-d7d4588d1e8c",
        "colab": {
          "base_uri": "https://localhost:8080/"
        }
      },
      "outputs": [
        {
          "output_type": "stream",
          "name": "stdout",
          "text": [
            "<AddBackward0 object at 0x7f8f26fb1310>\n"
          ]
        }
      ],
      "source": [
        "print(y.grad_fn)"
      ]
    },
    {
      "cell_type": "markdown",
      "metadata": {
        "id": "KhZOk8H6rtZL"
      },
      "source": [
        "Do more operations on y"
      ]
    },
    {
      "cell_type": "code",
      "execution_count": 5,
      "metadata": {
        "id": "lbHfExq2rtZL",
        "outputId": "d15a8c7a-5991-43ce-991e-3063b6c42604",
        "colab": {
          "base_uri": "https://localhost:8080/"
        }
      },
      "outputs": [
        {
          "output_type": "stream",
          "name": "stdout",
          "text": [
            "tensor([[27., 27.],\n",
            "        [27., 27.]], grad_fn=<MulBackward0>)\n",
            "tensor(27., grad_fn=<MeanBackward0>)\n"
          ]
        }
      ],
      "source": [
        "z = y * y * 3\n",
        "out = z.mean()\n",
        "\n",
        "print(z)\n",
        "print(out)"
      ]
    },
    {
      "cell_type": "markdown",
      "metadata": {
        "id": "8yIVaVLurtZM"
      },
      "source": [
        "# Assignments\n",
        "\n",
        "1. Create a Tensor that `requires_grad` of size (5, 5)\n",
        "2. Sum the values in the Tensor"
      ]
    },
    {
      "cell_type": "code",
      "source": [
        "# 1\n",
        "a = torch.rand(5, 5, requires_grad=True)\n",
        "print(a)\n",
        "\n",
        "# 2\n",
        "sum_a = a.sum()\n",
        "print(sum_a)"
      ],
      "metadata": {
        "id": "ehZ5ZMKIsm1J",
        "outputId": "bc221307-300d-4d49-fa5f-3b6e12f805ba",
        "colab": {
          "base_uri": "https://localhost:8080/"
        }
      },
      "execution_count": 13,
      "outputs": [
        {
          "output_type": "stream",
          "name": "stdout",
          "text": [
            "tensor([[0.3185, 0.8844, 0.1007, 0.9464, 0.5866],\n",
            "        [0.6283, 0.2529, 0.6868, 0.0157, 0.7572],\n",
            "        [0.1754, 0.0081, 0.9250, 0.5969, 0.0380],\n",
            "        [0.5425, 0.6817, 0.4829, 0.3329, 0.8385],\n",
            "        [0.1374, 0.1097, 0.0208, 0.3472, 0.9578]], requires_grad=True)\n",
            "tensor(11.3723, grad_fn=<SumBackward0>)\n"
          ]
        }
      ]
    },
    {
      "cell_type": "markdown",
      "metadata": {
        "id": "DiSMC-Y2rtZM"
      },
      "source": [
        "## 2. Gradients\n",
        "\n",
        "Let’s backprop now. Because `out` contains a single scalar, `out.backward()` is equivalent to `out.backward(torch.tensor([1.0]))`"
      ]
    },
    {
      "cell_type": "code",
      "execution_count": 14,
      "metadata": {
        "id": "XH4TJhkZrtZM"
      },
      "outputs": [],
      "source": [
        "out.backward()"
      ]
    },
    {
      "cell_type": "markdown",
      "metadata": {
        "id": "FrAOZAMWrtZN"
      },
      "source": [
        "Print gradients d(out)/dx"
      ]
    },
    {
      "cell_type": "code",
      "execution_count": 15,
      "metadata": {
        "id": "8_ki2MfOrtZN",
        "outputId": "3d127d4b-6222-4b62-cfae-5ff3cf9d3e9a",
        "colab": {
          "base_uri": "https://localhost:8080/"
        }
      },
      "outputs": [
        {
          "output_type": "stream",
          "name": "stdout",
          "text": [
            "tensor([[4.5000, 4.5000],\n",
            "        [4.5000, 4.5000]])\n"
          ]
        }
      ],
      "source": [
        "print(x.grad)"
      ]
    },
    {
      "cell_type": "markdown",
      "metadata": {
        "id": "Gv0cnyXBrtZN"
      },
      "source": [
        "You should have a matrix of `4.5`. Let’s denote the tensor `out` with $o$.\n",
        "\n",
        "We have:\n",
        "$o = \\frac{1}{4}\\sum_i z_i$, $z_i = 3(x_i+2)^2$ and $z_i\\bigr\\rvert_{x_i=1} = 27$.\n",
        "\n",
        "Therefore, $\\frac{\\partial o}{\\partial x_i} = \\frac{3}{2}(x_i+2)$,\n",
        "hence $\\frac{\\partial o}{\\partial x_i}\\bigr\\rvert_{x_i=1} = \\frac{9}{2} = 4.5$.\n",
        "\n",
        "You can do many crazy things with autograd!"
      ]
    },
    {
      "cell_type": "code",
      "execution_count": 16,
      "metadata": {
        "id": "2dnuhBHIrtZN",
        "outputId": "87c36c97-f98e-4564-e6fc-462c3639c61c",
        "colab": {
          "base_uri": "https://localhost:8080/"
        }
      },
      "outputs": [
        {
          "output_type": "stream",
          "name": "stdout",
          "text": [
            "tensor([ 300.6785,  334.0767, 1291.0781], grad_fn=<MulBackward0>)\n"
          ]
        }
      ],
      "source": [
        "x = torch.randn(3, requires_grad=True)\n",
        "\n",
        "y = x * 2\n",
        "while y.data.norm() < 1000:\n",
        "    y = y * 2\n",
        "\n",
        "print(y)"
      ]
    },
    {
      "cell_type": "code",
      "execution_count": 17,
      "metadata": {
        "id": "81qy7OoqrtZO",
        "outputId": "18e53a9b-7fb8-421d-b932-136c37b63fd4",
        "colab": {
          "base_uri": "https://localhost:8080/"
        }
      },
      "outputs": [
        {
          "output_type": "stream",
          "name": "stdout",
          "text": [
            "tensor([5.1200e+01, 5.1200e+02, 5.1200e-02])\n"
          ]
        }
      ],
      "source": [
        "gradients = torch.FloatTensor([0.1, 1.0, 0.0001])\n",
        "y.backward(gradients)\n",
        "\n",
        "print(x.grad)"
      ]
    },
    {
      "cell_type": "markdown",
      "metadata": {
        "id": "NZJvUuTjrtZO"
      },
      "source": [
        "**Read later** \\\n",
        "*Documentation* \\\n",
        "`Tensor`: https://pytorch.org/docs/stable/tensors.html \\\n",
        "`Function`: http://pytorch.org/docs/autograd"
      ]
    },
    {
      "cell_type": "markdown",
      "metadata": {
        "id": "Gjks2e_4rtZP"
      },
      "source": [
        "# Assignments\n",
        "\n",
        "1. Define a tensor and set `requires_grad` to `True`\n",
        "3. Multiply the tensor by 2 and assign the result to a new python variable (i.e. `x = result`)\n",
        "4. Sum the variable's elements and assign to a new python variable\n",
        "5. Print the gradients of all the variables\n",
        "6. Now perform a backward pass on the last variable (NOTE: for each new python variable that you define, call `.retain_grad()`)\n",
        "7. Print all gradients again\n",
        "  - what did you notice?"
      ]
    },
    {
      "cell_type": "code",
      "execution_count": null,
      "metadata": {
        "id": "wGRwXipLrtZP"
      },
      "outputs": [],
      "source": [
        "# 1\n",
        "a = torch.rand(5, 5, requires_grad=True)\n",
        "print(a)\n",
        "\n",
        "# 2\n",
        "b = a * 2\n",
        "c = b.sum()\n",
        "print(sum_a)\n",
        "\n",
        "# TODO finish this"
      ]
    }
  ],
  "metadata": {
    "kernelspec": {
      "display_name": "Python 3 (ipykernel)",
      "language": "python",
      "name": "python3"
    },
    "language_info": {
      "codemirror_mode": {
        "name": "ipython",
        "version": 3
      },
      "file_extension": ".py",
      "mimetype": "text/x-python",
      "name": "python",
      "nbconvert_exporter": "python",
      "pygments_lexer": "ipython3",
      "version": "3.8.12"
    },
    "colab": {
      "provenance": []
    }
  },
  "nbformat": 4,
  "nbformat_minor": 0
}